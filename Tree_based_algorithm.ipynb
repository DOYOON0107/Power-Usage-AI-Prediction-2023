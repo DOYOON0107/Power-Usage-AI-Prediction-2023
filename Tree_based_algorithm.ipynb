{
 "cells": [
  {
   "cell_type": "markdown",
   "id": "4e31f2be",
   "metadata": {},
   "source": [
    "# Library Load"
   ]
  },
  {
   "cell_type": "code",
   "execution_count": 27,
   "id": "8f5e4e75",
   "metadata": {},
   "outputs": [],
   "source": [
    "import pandas as pd\n",
    "import matplotlib.pyplot as plt\n",
    "import seaborn as sns\n",
    "import numpy as np\n",
    "import sys\n",
    "import sktime\n",
    "import tqdm as tq\n",
    "import matplotlib\n",
    "import seaborn as sns\n",
    "import sklearn as skl\n",
    "import random\n",
    "import os\n",
    "from tqdm import tqdm\n",
    "import tqdm as tq\n",
    "\n",
    "from sklearn.metrics import mean_absolute_error\n",
    "from sklearn.model_selection import train_test_split\n",
    "from sklearn.ensemble import RandomForestRegressor\n",
    "\n",
    "import warnings\n",
    "warnings.filterwarnings(action = 'ignore')\n",
    "\n",
    "# set seed\n",
    "def seed_everything(seed):\n",
    "    random.seed(seed)\n",
    "    os.environ['PYTHONHASHSEED'] = str(seed)\n",
    "    np.random.seed(seed)\n",
    "\n",
    "seed_everything(42) #"
   ]
  },
  {
   "cell_type": "markdown",
   "id": "15d63ec2",
   "metadata": {},
   "source": [
    "# Data load"
   ]
  },
  {
   "cell_type": "code",
   "execution_count": 2,
   "id": "394e5b00",
   "metadata": {},
   "outputs": [],
   "source": [
    "train_df = pd.read_csv('/Users/idoyun/Desktop/데이터 분석 경진대회/진행중/2023 전력사용량 예측 AI 경진대회/datafile/train.csv')\n",
    "test_df = pd.read_csv('/Users/idoyun/Desktop/데이터 분석 경진대회/진행중/2023 전력사용량 예측 AI 경진대회/datafile/test.csv')"
   ]
  },
  {
   "cell_type": "code",
   "execution_count": 3,
   "id": "4fa315f3",
   "metadata": {},
   "outputs": [],
   "source": [
    "building_info = pd.read_csv('/Users/idoyun/Desktop/데이터 분석 경진대회/진행중/2023 전력사용량 예측 AI 경진대회/datafile/building_info.csv')"
   ]
  },
  {
   "cell_type": "code",
   "execution_count": 4,
   "id": "91b274e5",
   "metadata": {},
   "outputs": [],
   "source": [
    "train_df = train_df.rename(columns={\n",
    "    '건물번호': 'building_number',\n",
    "    '일시': 'date_time',\n",
    "    '기온(C)': 'temperature',\n",
    "    '강수량(mm)': 'rainfall',\n",
    "    '풍속(m/s)': 'windspeed',\n",
    "    '습도(%)': 'humidity',\n",
    "    '일조(hr)': 'sunshine',\n",
    "    '일사(MJ/m2)': 'solar_radiation',\n",
    "    '전력소비량(kWh)': 'power_consumption'\n",
    "})\n",
    "train_df.drop('num_date_time', axis = 1, inplace=True)"
   ]
  },
  {
   "cell_type": "code",
   "execution_count": 5,
   "id": "7799387d",
   "metadata": {},
   "outputs": [],
   "source": [
    "building_info = building_info.rename(columns={\n",
    "    '건물번호': 'building_number',\n",
    "    '건물유형': 'building_type',\n",
    "    '연면적(m2)': 'total_area',\n",
    "    '냉방면적(m2)': 'cooling_area',\n",
    "    '태양광용량(kW)': 'solar_power_capacity',\n",
    "    'ESS저장용량(kWh)': 'ess_capacity',\n",
    "    'PCS용량(kW)': 'pcs_capacity'\n",
    "})"
   ]
  },
  {
   "cell_type": "code",
   "execution_count": 6,
   "id": "c97ec3c9",
   "metadata": {},
   "outputs": [],
   "source": [
    "translation_dict = {\n",
    "    '건물기타': 'Other Buildings',\n",
    "    '공공': 'Public',\n",
    "    '대학교': 'University',\n",
    "    '데이터센터': 'Data Center',\n",
    "    '백화점및아울렛': 'Department Store and Outlet',\n",
    "    '병원': 'Hospital',\n",
    "    '상용': 'Commercial',\n",
    "    '아파트': 'Apartment',\n",
    "    '연구소': 'Research Institute',\n",
    "    '지식산업센터': 'Knowledge Industry Center',\n",
    "    '할인마트': 'Discount Mart',\n",
    "    '호텔및리조트': 'Hotel and Resort'\n",
    "}\n",
    "\n",
    "building_info['building_type'] = building_info['building_type'].replace(translation_dict)"
   ]
  },
  {
   "cell_type": "code",
   "execution_count": 7,
   "id": "57a785b4",
   "metadata": {},
   "outputs": [],
   "source": [
    "train_df = pd.merge(train_df, building_info, on='building_number', how='left')"
   ]
  },
  {
   "cell_type": "code",
   "execution_count": 8,
   "id": "42fe1ea5",
   "metadata": {},
   "outputs": [],
   "source": [
    "# solar_power_capacity, ess_capacity, pcs_capacity 대부분 결측자료 drop\n",
    "train_df = train_df.drop(['solar_power_capacity', 'ess_capacity', 'pcs_capacity'], axis=1)\n",
    "train_df = train_df.drop(['solar_radiation', 'sunshine'], axis=1)"
   ]
  },
  {
   "cell_type": "code",
   "execution_count": 9,
   "id": "a864451e",
   "metadata": {},
   "outputs": [],
   "source": [
    "columns_to_fill = ['rainfall', 'windspeed', 'humidity']\n",
    "train_df[columns_to_fill] = train_df[columns_to_fill].fillna(0)"
   ]
  },
  {
   "cell_type": "code",
   "execution_count": 10,
   "id": "7329ff3b",
   "metadata": {},
   "outputs": [],
   "source": [
    "# 시계열 변수 생성\n",
    "date = pd.to_datetime(train_df.date_time)\n",
    "train_df['hour'] = date.dt.hour\n",
    "train_df['day'] = date.dt.weekday\n",
    "train_df['month'] = date.dt.month\n",
    "train_df['week'] = date.dt.weekofyear"
   ]
  },
  {
   "cell_type": "code",
   "execution_count": 11,
   "id": "140ade9c",
   "metadata": {},
   "outputs": [],
   "source": [
    "# building_type 변수를 수치형으로 변환하여 새로운 열 생성\n",
    "building_type_mapping = {\n",
    "    'Apartment': 1,\n",
    "    'Commercial': 2,\n",
    "    'Data Center': 3,\n",
    "    'Department Store and Outlet': 4,\n",
    "    'Discount Mart': 5,\n",
    "    'Hospital': 6,\n",
    "    'Hotel and Resort': 7,\n",
    "    'Knowledge Industry Center': 8,\n",
    "    'Other Buildings': 9,\n",
    "    'Public': 10,\n",
    "    'Research Institute': 11,\n",
    "    'University': 12\n",
    "}\n",
    "train_df['building_type_numeric'] = train_df['building_type'].map(building_type_mapping)"
   ]
  },
  {
   "cell_type": "code",
   "execution_count": 12,
   "id": "4b34c360",
   "metadata": {},
   "outputs": [],
   "source": [
    "### 공휴일 변수 추가\n",
    "train_df['holiday'] = train_df['day'].apply(lambda x: 1 if x >= 6 else 0)"
   ]
  },
  {
   "cell_type": "code",
   "execution_count": 13,
   "id": "60668208",
   "metadata": {},
   "outputs": [],
   "source": [
    "## https://dacon.io/competitions/official/235680/codeshare/2366?page=1&dtype=recent\n",
    "# 순환적 성격의 시간 변수 생성\n",
    "train_df['sin_time'] = np.sin(2*np.pi*train_df.hour/24)\n",
    "train_df['cos_time'] = np.cos(2*np.pi*train_df.hour/24)"
   ]
  },
  {
   "cell_type": "code",
   "execution_count": 14,
   "id": "cdf4aec0",
   "metadata": {},
   "outputs": [],
   "source": [
    "## https://dacon.io/competitions/official/235736/codeshare/2743?page=1&dtype=recent\n",
    "# 상대습도 변수 생성\n",
    "train_df['THI'] = 9/5*train_df['temperature'] - 0.55*(1-train_df['humidity']/100)*(9/5*train_df['humidity']-26)+32"
   ]
  },
  {
   "cell_type": "code",
   "execution_count": 15,
   "id": "241da853",
   "metadata": {},
   "outputs": [],
   "source": [
    "# Cooling Degree Hour 변수 생성\n",
    "def CDH(xs):\n",
    "    ys = []\n",
    "    for i in range(len(xs)):\n",
    "        if i < 11:\n",
    "            ys.append(np.sum(xs[:(i+1)]-26))\n",
    "        else:\n",
    "            ys.append(np.sum(xs[(i-11):(i+1)]-26))\n",
    "    return np.array(ys)\n",
    "\n",
    "cdhs = np.array([])\n",
    "for num in range(1,101,1):\n",
    "    temp = train_df[train_df['building_number'] == num]\n",
    "    cdh = CDH(temp['temperature'].values)\n",
    "    cdhs = np.concatenate([cdhs, cdh])\n",
    "train_df['CDH'] = cdhs"
   ]
  },
  {
   "cell_type": "code",
   "execution_count": 16,
   "id": "c5cc3ed3",
   "metadata": {},
   "outputs": [],
   "source": [
    "# feature과 target data 분리\n",
    "x_train = train_df.drop(columns = ['date_time','power_consumption','building_type',\n",
    "                                  'total_area','cooling_area',\n",
    "                                   'hour','building_type_numeric'])\n",
    "y_train = train_df['power_consumption']"
   ]
  },
  {
   "cell_type": "code",
   "execution_count": 22,
   "id": "e6f7be16",
   "metadata": {},
   "outputs": [],
   "source": [
    "x_train, x_valid, y_train, y_valid = train_test_split(x_train,y_train,test_size = 0.2)"
   ]
  },
  {
   "cell_type": "code",
   "execution_count": 23,
   "id": "a29b16c7",
   "metadata": {},
   "outputs": [
    {
     "data": {
      "text/html": [
       "<div>\n",
       "<style scoped>\n",
       "    .dataframe tbody tr th:only-of-type {\n",
       "        vertical-align: middle;\n",
       "    }\n",
       "\n",
       "    .dataframe tbody tr th {\n",
       "        vertical-align: top;\n",
       "    }\n",
       "\n",
       "    .dataframe thead th {\n",
       "        text-align: right;\n",
       "    }\n",
       "</style>\n",
       "<table border=\"1\" class=\"dataframe\">\n",
       "  <thead>\n",
       "    <tr style=\"text-align: right;\">\n",
       "      <th></th>\n",
       "      <th>building_number</th>\n",
       "      <th>temperature</th>\n",
       "      <th>rainfall</th>\n",
       "      <th>windspeed</th>\n",
       "      <th>humidity</th>\n",
       "      <th>day</th>\n",
       "      <th>month</th>\n",
       "      <th>week</th>\n",
       "      <th>holiday</th>\n",
       "      <th>sin_time</th>\n",
       "      <th>cos_time</th>\n",
       "      <th>THI</th>\n",
       "      <th>CDH</th>\n",
       "    </tr>\n",
       "  </thead>\n",
       "  <tbody>\n",
       "    <tr>\n",
       "      <th>133244</th>\n",
       "      <td>66</td>\n",
       "      <td>28.5</td>\n",
       "      <td>0.0</td>\n",
       "      <td>1.9</td>\n",
       "      <td>68.0</td>\n",
       "      <td>0</td>\n",
       "      <td>6</td>\n",
       "      <td>26</td>\n",
       "      <td>0</td>\n",
       "      <td>-0.866025</td>\n",
       "      <td>0.500000</td>\n",
       "      <td>66.3336</td>\n",
       "      <td>36.6</td>\n",
       "    </tr>\n",
       "    <tr>\n",
       "      <th>194488</th>\n",
       "      <td>96</td>\n",
       "      <td>24.6</td>\n",
       "      <td>0.2</td>\n",
       "      <td>12.1</td>\n",
       "      <td>96.0</td>\n",
       "      <td>2</td>\n",
       "      <td>6</td>\n",
       "      <td>26</td>\n",
       "      <td>0</td>\n",
       "      <td>-0.866025</td>\n",
       "      <td>-0.500000</td>\n",
       "      <td>73.0504</td>\n",
       "      <td>-21.2</td>\n",
       "    </tr>\n",
       "    <tr>\n",
       "      <th>651</th>\n",
       "      <td>1</td>\n",
       "      <td>27.4</td>\n",
       "      <td>0.0</td>\n",
       "      <td>3.1</td>\n",
       "      <td>77.0</td>\n",
       "      <td>1</td>\n",
       "      <td>6</td>\n",
       "      <td>26</td>\n",
       "      <td>0</td>\n",
       "      <td>0.707107</td>\n",
       "      <td>0.707107</td>\n",
       "      <td>67.0761</td>\n",
       "      <td>13.9</td>\n",
       "    </tr>\n",
       "    <tr>\n",
       "      <th>109258</th>\n",
       "      <td>54</td>\n",
       "      <td>20.2</td>\n",
       "      <td>8.0</td>\n",
       "      <td>4.0</td>\n",
       "      <td>100.0</td>\n",
       "      <td>0</td>\n",
       "      <td>7</td>\n",
       "      <td>29</td>\n",
       "      <td>0</td>\n",
       "      <td>0.500000</td>\n",
       "      <td>-0.866025</td>\n",
       "      <td>68.3600</td>\n",
       "      <td>-25.4</td>\n",
       "    </tr>\n",
       "    <tr>\n",
       "      <th>72710</th>\n",
       "      <td>36</td>\n",
       "      <td>30.6</td>\n",
       "      <td>0.0</td>\n",
       "      <td>2.6</td>\n",
       "      <td>65.0</td>\n",
       "      <td>0</td>\n",
       "      <td>7</td>\n",
       "      <td>30</td>\n",
       "      <td>0</td>\n",
       "      <td>-0.500000</td>\n",
       "      <td>-0.866025</td>\n",
       "      <td>69.5625</td>\n",
       "      <td>7.8</td>\n",
       "    </tr>\n",
       "  </tbody>\n",
       "</table>\n",
       "</div>"
      ],
      "text/plain": [
       "        building_number  temperature  rainfall  windspeed  humidity  day  \\\n",
       "133244               66         28.5       0.0        1.9      68.0    0   \n",
       "194488               96         24.6       0.2       12.1      96.0    2   \n",
       "651                   1         27.4       0.0        3.1      77.0    1   \n",
       "109258               54         20.2       8.0        4.0     100.0    0   \n",
       "72710                36         30.6       0.0        2.6      65.0    0   \n",
       "\n",
       "        month  week  holiday  sin_time  cos_time      THI   CDH  \n",
       "133244      6    26        0 -0.866025  0.500000  66.3336  36.6  \n",
       "194488      6    26        0 -0.866025 -0.500000  73.0504 -21.2  \n",
       "651         6    26        0  0.707107  0.707107  67.0761  13.9  \n",
       "109258      7    29        0  0.500000 -0.866025  68.3600 -25.4  \n",
       "72710       7    30        0 -0.500000 -0.866025  69.5625   7.8  "
      ]
     },
     "execution_count": 23,
     "metadata": {},
     "output_type": "execute_result"
    }
   ],
   "source": [
    "x_train.head()"
   ]
  },
  {
   "cell_type": "markdown",
   "id": "8f0a50d4",
   "metadata": {},
   "source": [
    "feature :  \n",
    "building_number, temperature, rainfall, windspeed, humidity, day, month, week, building_type_numeric,  \n",
    "holiday, sin_time, cos_time, THI, CDH"
   ]
  },
  {
   "cell_type": "markdown",
   "id": "d7aac78d",
   "metadata": {},
   "source": [
    "target : power consumption"
   ]
  },
  {
   "cell_type": "markdown",
   "id": "93f11f7b",
   "metadata": {},
   "source": [
    "# Random Forest"
   ]
  },
  {
   "cell_type": "code",
   "execution_count": 19,
   "id": "80da4a7a",
   "metadata": {},
   "outputs": [
    {
     "data": {
      "text/plain": [
       "RandomForestRegressor()"
      ]
     },
     "execution_count": 19,
     "metadata": {},
     "output_type": "execute_result"
    }
   ],
   "source": [
    "rf_model = RandomForestRegressor()\n",
    "rf_model.fit(x_train, y_train)"
   ]
  },
  {
   "cell_type": "code",
   "execution_count": 20,
   "id": "7257c522",
   "metadata": {},
   "outputs": [],
   "source": [
    "pred1 = rf_model.predict(x_valid)"
   ]
  },
  {
   "cell_type": "code",
   "execution_count": 18,
   "id": "392321cc",
   "metadata": {},
   "outputs": [],
   "source": [
    "def SMAPE(y, pred):\n",
    "    smape = abs((y - pred))/((abs(y) + abs(pred)) / 2) * 100\n",
    "    smape = np.mean(smape)\n",
    "    return smape\n",
    "\n",
    "def mae(y, pred):\n",
    "    return np.mean(abs(y-pred))"
   ]
  },
  {
   "cell_type": "code",
   "execution_count": 23,
   "id": "bf58eaff",
   "metadata": {},
   "outputs": [
    {
     "name": "stdout",
     "output_type": "stream",
     "text": [
      "SMAPE: 4.250333255678635\n",
      "MAE: 81.30039592040579\n"
     ]
    }
   ],
   "source": [
    "mae_score = mae(y_valid, pred1)\n",
    "smape_score = SMAPE(y_valid, pred1)\n",
    "print(f'SMAPE: {smape_score}\\nMAE: {mae_score}')"
   ]
  },
  {
   "cell_type": "code",
   "execution_count": 24,
   "id": "57f0d452",
   "metadata": {},
   "outputs": [
    {
     "name": "stdout",
     "output_type": "stream",
     "text": [
      "building_number 0.879340385583798\n",
      "temperature 0.004212260892793256\n",
      "rainfall 0.00016481289745802342\n",
      "windspeed 0.0013369682745319226\n",
      "humidity 0.0012535727138395694\n",
      "day 0.023225120334825353\n",
      "month 0.0006960749489142835\n",
      "week 0.010202415879510115\n",
      "holiday 0.000510434341301627\n",
      "sin_time 0.02564888170377406\n",
      "cos_time 0.04731002692511713\n",
      "THI 0.001999010821063659\n",
      "CDH 0.004100034683072987\n"
     ]
    }
   ],
   "source": [
    "for name, score in zip(x_train.columns, rf_model.feature_importances_):\n",
    "    print(name, score)"
   ]
  },
  {
   "cell_type": "markdown",
   "id": "cd130151",
   "metadata": {},
   "source": [
    "## Result \n",
    "\n",
    "시계열 특성을 고려하여 month , day , time 변수를 추가하여  \n",
    "random forest 모델을 생성하여 예측한 결과 MAPE : 7.25%\n",
    "\n",
    "building number, day , temperature time ... 순서로 중요도가 나타남  \n",
    "건물 용도가 전력 수요에 가장 중요한 요소이며, 그 다음으로 일자와 온도, 시간 순으로 중요하 것을 알 수 있었음\n",
    "\n",
    "+ update\n",
    "cooling_area 냉방 면적에 대한 정보를 추가할 경우 7.22%로 mape값이 내려감\n",
    "+ update \n",
    "building_type에 대한 정보를 추가한 결과 RMSE값이 감소함(318.623)\n",
    "\n",
    "+ update\n",
    "building_area 에 대한 정보를 추가할 경우 7.21%로 mape값이 내려감\n",
    "그러나 RMSE가 3.19828로 상승함"
   ]
  },
  {
   "cell_type": "markdown",
   "id": "782a4a12",
   "metadata": {},
   "source": [
    "## Extra Tree"
   ]
  },
  {
   "cell_type": "code",
   "execution_count": 30,
   "id": "a7742404",
   "metadata": {},
   "outputs": [],
   "source": [
    "from sklearn.tree import ExtraTreeRegressor\n",
    "model5 = ExtraTreeRegressor()"
   ]
  },
  {
   "cell_type": "code",
   "execution_count": 26,
   "id": "77816e0a",
   "metadata": {},
   "outputs": [
    {
     "data": {
      "text/plain": [
       "ExtraTreeRegressor()"
      ]
     },
     "execution_count": 26,
     "metadata": {},
     "output_type": "execute_result"
    }
   ],
   "source": [
    "model5.fit(x_train, y_train)"
   ]
  },
  {
   "cell_type": "code",
   "execution_count": 27,
   "id": "84a89732",
   "metadata": {},
   "outputs": [],
   "source": [
    "pred5 = model5.predict(x_valid)"
   ]
  },
  {
   "cell_type": "code",
   "execution_count": 28,
   "id": "3a8c1a7c",
   "metadata": {},
   "outputs": [
    {
     "name": "stdout",
     "output_type": "stream",
     "text": [
      "SMAPE: 7.682296871712366\n",
      "MAE: 154.86930291781914\n"
     ]
    }
   ],
   "source": [
    "mae_score = mae(y_valid, pred5)\n",
    "smape_score = SMAPE(y_valid, pred5)\n",
    "print(f'SMAPE: {smape_score}\\nMAE: {mae_score}')"
   ]
  },
  {
   "cell_type": "code",
   "execution_count": 29,
   "id": "016f2e52",
   "metadata": {},
   "outputs": [
    {
     "name": "stdout",
     "output_type": "stream",
     "text": [
      "building_number 0.879694052596396\n",
      "temperature 0.004256220183999076\n",
      "rainfall 0.0007306835841246881\n",
      "windspeed 0.008629345131605584\n",
      "humidity 0.007982044199765767\n",
      "day 0.01695205304049795\n",
      "month 0.005319535975651557\n",
      "week 0.008565403950695731\n",
      "holiday 0.0043416664287387885\n",
      "sin_time 0.016760042979954468\n",
      "cos_time 0.04024471400836533\n",
      "THI 0.002825805222053525\n",
      "CDH 0.0036984326981514652\n"
     ]
    }
   ],
   "source": [
    "for name, score in zip(x_train.columns, model5.feature_importances_):\n",
    "    print(name, score)"
   ]
  },
  {
   "cell_type": "markdown",
   "id": "288300a5",
   "metadata": {},
   "source": [
    "## Random Forest ( modeling each building number )"
   ]
  },
  {
   "cell_type": "code",
   "execution_count": 25,
   "id": "3fc542aa",
   "metadata": {},
   "outputs": [],
   "source": [
    "# 각 building_number에 따라 모델을 저장할 딕셔너리 생성\n",
    "models_by_building = {}\n",
    "\n",
    "for building_num in range(1, 101):\n",
    "    # 해당 building_number에 해당하는 데이터 추출\n",
    "    building_data = x_train[x_train['building_number'] == building_num]\n",
    "    building_target = y_train[x_train['building_number'] == building_num]\n",
    "    \n",
    "    # RandomForestRegressor 모델 생성 및 학습\n",
    "    rf_model = RandomForestRegressor()\n",
    "    rf_model.fit(building_data, building_target)\n",
    "    \n",
    "    # 모델을 딕셔너리에 저장\n",
    "    models_by_building[building_num] = rf_model"
   ]
  },
  {
   "cell_type": "code",
   "execution_count": 28,
   "id": "b0bf33ee",
   "metadata": {},
   "outputs": [
    {
     "name": "stdout",
     "output_type": "stream",
     "text": [
      "SMAPE: 4.18%\n",
      "MAE: 79.73\n"
     ]
    }
   ],
   "source": [
    "# 각 building_number에 따라 예측하고 SMAPE와 MAE 값을 계산하여 저장할 리스트 생성\n",
    "smape_scores = []\n",
    "mae_scores = []\n",
    "\n",
    "for building_num in range(1, 101):\n",
    "    # 해당 building_number에 해당하는 검증 데이터 추출\n",
    "    building_data_valid = x_valid[x_valid['building_number'] == building_num]\n",
    "    building_target_valid = y_valid[x_valid['building_number'] == building_num]\n",
    "    \n",
    "    # 해당 building_number에 해당하는 model select\n",
    "    target_model = models_by_building.get(building_num)\n",
    "    if target_model is None:\n",
    "        continue\n",
    "    \n",
    "    # prediction\n",
    "    predictions = target_model.predict(building_data_valid)\n",
    "    \n",
    "    # SMAPE 계산\n",
    "    smape_score = SMAPE(building_target_valid, predictions)\n",
    "    smape_scores.append(smape_score)\n",
    "    \n",
    "    # MAE 계산\n",
    "    mae_score = mean_absolute_error(building_target_valid, predictions)\n",
    "    mae_scores.append(mae_score)\n",
    "\n",
    "# SMAPE와 MAE 값의 평균 계산\n",
    "average_smape = np.mean(smape_scores)\n",
    "average_mae = np.mean(mae_scores)\n",
    "\n",
    "print(f\"SMAPE: {average_smape:.2f}%\")\n",
    "print(f\"MAE: {average_mae:.2f}\")\n"
   ]
  },
  {
   "cell_type": "markdown",
   "id": "2928dbe5",
   "metadata": {},
   "source": [
    "## Extra Tree ( modeling by building number)"
   ]
  },
  {
   "cell_type": "code",
   "execution_count": 31,
   "id": "4ef9e144",
   "metadata": {},
   "outputs": [],
   "source": [
    "# 각 building_number에 따라 모델을 저장할 딕셔너리 생성\n",
    "ex_models_by_building = {}\n",
    "\n",
    "for building_num in range(1, 101):\n",
    "    # 해당 building_number에 해당하는 데이터 추출\n",
    "    building_data = x_train[x_train['building_number'] == building_num]\n",
    "    building_target = y_train[x_train['building_number'] == building_num]\n",
    "    \n",
    "    # RandomForestRegressor 모델 생성 및 학습\n",
    "    ex_model = ExtraTreeRegressor()\n",
    "    ex_model.fit(building_data, building_target)\n",
    "    \n",
    "    # 모델을 딕셔너리에 저장\n",
    "    ex_models_by_building[building_num] = ex_model"
   ]
  },
  {
   "cell_type": "code",
   "execution_count": 32,
   "id": "dcf4c8dc",
   "metadata": {},
   "outputs": [
    {
     "name": "stdout",
     "output_type": "stream",
     "text": [
      "SMAPE: 5.82%\n",
      "MAE: 112.07\n"
     ]
    }
   ],
   "source": [
    "# 각 building_number에 따라 예측하고 SMAPE와 MAE 값을 계산하여 저장할 리스트 생성\n",
    "smape_scores = []\n",
    "mae_scores = []\n",
    "\n",
    "for building_num in range(1, 101):\n",
    "    # 해당 building_number에 해당하는 검증 데이터 추출\n",
    "    building_data_valid = x_valid[x_valid['building_number'] == building_num]\n",
    "    building_target_valid = y_valid[x_valid['building_number'] == building_num]\n",
    "    \n",
    "    # 해당 building_number에 해당하는 model select\n",
    "    target_model = ex_models_by_building.get(building_num)\n",
    "    if target_model is None:\n",
    "        continue\n",
    "    \n",
    "    # prediction\n",
    "    predictions = target_model.predict(building_data_valid)\n",
    "    \n",
    "    # SMAPE 계산\n",
    "    smape_score = SMAPE(building_target_valid, predictions)\n",
    "    smape_scores.append(smape_score)\n",
    "    \n",
    "    # MAE 계산\n",
    "    mae_score = mean_absolute_error(building_target_valid, predictions)\n",
    "    mae_scores.append(mae_score)\n",
    "\n",
    "# SMAPE와 MAE 값의 평균 계산\n",
    "average_smape = np.mean(smape_scores)\n",
    "average_mae = np.mean(mae_scores)\n",
    "\n",
    "print(f\"SMAPE: {average_smape:.2f}%\")\n",
    "print(f\"MAE: {average_mae:.2f}\")"
   ]
  },
  {
   "cell_type": "markdown",
   "id": "b1e693ec",
   "metadata": {},
   "source": [
    "## Submission"
   ]
  },
  {
   "cell_type": "code",
   "execution_count": 34,
   "id": "7cada848",
   "metadata": {},
   "outputs": [],
   "source": [
    "test_df = test_df.rename(columns={\n",
    "    '건물번호': 'building_number',\n",
    "    '일시': 'date_time',\n",
    "    '기온(C)': 'temperature',\n",
    "    '강수량(mm)': 'rainfall',\n",
    "    '풍속(m/s)': 'windspeed',\n",
    "    '습도(%)': 'humidity',\n",
    "    '일조(hr)': 'sunshine',\n",
    "    '일사(MJ/m2)': 'solar_radiation',\n",
    "    '전력소비량(kWh)': 'power_consumption'\n",
    "})\n",
    "test_df.drop('num_date_time', axis = 1, inplace=True)"
   ]
  },
  {
   "cell_type": "code",
   "execution_count": 35,
   "id": "c14ad601",
   "metadata": {},
   "outputs": [],
   "source": [
    "test_df = pd.merge(test_df, building_info, on='building_number', how='left')"
   ]
  },
  {
   "cell_type": "code",
   "execution_count": 36,
   "id": "f69f4e35",
   "metadata": {},
   "outputs": [],
   "source": [
    "test_df = test_df.drop(['solar_power_capacity', 'ess_capacity', 'pcs_capacity'], axis=1)"
   ]
  },
  {
   "cell_type": "code",
   "execution_count": 37,
   "id": "9b3489e3",
   "metadata": {},
   "outputs": [],
   "source": [
    "test_df[columns_to_fill] = test_df[columns_to_fill].fillna(0)"
   ]
  },
  {
   "cell_type": "code",
   "execution_count": 38,
   "id": "5537125a",
   "metadata": {},
   "outputs": [],
   "source": [
    "# 시계열 변수 생성\n",
    "date = pd.to_datetime(test_df.date_time)\n",
    "test_df['hour'] = date.dt.hour\n",
    "test_df['day'] = date.dt.weekday\n",
    "test_df['month'] = date.dt.month\n",
    "test_df['week'] = date.dt.weekofyear"
   ]
  },
  {
   "cell_type": "code",
   "execution_count": 39,
   "id": "14baeda3",
   "metadata": {},
   "outputs": [],
   "source": [
    "test_df['building_type_numeric'] = test_df['building_type'].map(building_type_mapping)"
   ]
  },
  {
   "cell_type": "code",
   "execution_count": 40,
   "id": "4f7e3e65",
   "metadata": {},
   "outputs": [],
   "source": [
    "### 공휴일 변수 추가\n",
    "test_df['holiday'] = test_df['day'].apply(lambda x: 1 if x >= 6 else 0)"
   ]
  },
  {
   "cell_type": "code",
   "execution_count": 41,
   "id": "c6607fc8",
   "metadata": {},
   "outputs": [],
   "source": [
    "## https://dacon.io/competitions/official/235680/codeshare/2366?page=1&dtype=recent\n",
    "# 순환적 성격의 시간 변수 생성\n",
    "test_df['sin_time'] = np.sin(2*np.pi*test_df.hour/24)\n",
    "test_df['cos_time'] = np.cos(2*np.pi*test_df.hour/24)"
   ]
  },
  {
   "cell_type": "code",
   "execution_count": 42,
   "id": "32664b5d",
   "metadata": {},
   "outputs": [],
   "source": [
    "## https://dacon.io/competitions/official/235736/codeshare/2743?page=1&dtype=recent\n",
    "# 상대습도 변수 생성\n",
    "test_df['THI'] = 9/5*test_df['temperature'] - 0.55*(1-test_df['humidity']/100)*(9/5*test_df['humidity']-26)+32"
   ]
  },
  {
   "cell_type": "code",
   "execution_count": 43,
   "id": "ae809635",
   "metadata": {},
   "outputs": [],
   "source": [
    "# Cooling Degree Hour 변수 생성\n",
    "def CDH(xs):\n",
    "    ys = []\n",
    "    for i in range(len(xs)):\n",
    "        if i < 11:\n",
    "            ys.append(np.sum(xs[:(i+1)]-26))\n",
    "        else:\n",
    "            ys.append(np.sum(xs[(i-11):(i+1)]-26))\n",
    "    return np.array(ys)\n",
    "\n",
    "cdhs = np.array([])\n",
    "for num in range(1,101,1):\n",
    "    temp = test_df[test_df['building_number'] == num]\n",
    "    cdh = CDH(temp['temperature'].values)\n",
    "    cdhs = np.concatenate([cdhs, cdh])\n",
    "test_df['CDH'] = cdhs"
   ]
  },
  {
   "cell_type": "code",
   "execution_count": 44,
   "id": "57dc8564",
   "metadata": {},
   "outputs": [],
   "source": [
    "x_test = test_df.drop(columns =  ['date_time','building_type',\n",
    "                                  'total_area','cooling_area',\n",
    "                                   'hour','building_type_numeric'])"
   ]
  },
  {
   "cell_type": "code",
   "execution_count": 54,
   "id": "83921e94",
   "metadata": {},
   "outputs": [
    {
     "data": {
      "text/plain": [
       "16800"
      ]
     },
     "execution_count": 54,
     "metadata": {},
     "output_type": "execute_result"
    }
   ],
   "source": [
    "len(x_test)"
   ]
  },
  {
   "cell_type": "code",
   "execution_count": 58,
   "id": "8f9d32d4",
   "metadata": {},
   "outputs": [],
   "source": [
    "submission = pd.read_csv(\"/Users/idoyun/Desktop/데이터 분석 경진대회/진행중/2023 전력사용량 예측 AI 경진대회/datafile/sample_submission.csv\")\n",
    "\n",
    "# 예측값을 저장할 리스트 생성\n",
    "predicted_answers = []\n",
    "\n",
    "for building_num in range(1, 101):\n",
    "    # 해당 building_number에 해당하는 모델 선택\n",
    "    target_model = models_by_building.get(building_num)\n",
    "    if target_model is None:\n",
    "        # 해당 building_number에 모델이 없으면 24개의 0으로 예측값 추가\n",
    "        predicted_answers.extend([0] * 24)\n",
    "    else:\n",
    "        # 해당 모델로 예측 수행\n",
    "        predictions = target_model.predict(x_test[x_test['building_number'] == building_num])\n",
    "        predicted_answers.extend(predictions)\n",
    "\n",
    "# 예측값을 submission 데이터프레임의 'answer' 컬럼에 대입\n",
    "submission['answer'] = predicted_answers"
   ]
  },
  {
   "cell_type": "code",
   "execution_count": 60,
   "id": "2d6521af",
   "metadata": {},
   "outputs": [
    {
     "data": {
      "text/html": [
       "<div>\n",
       "<style scoped>\n",
       "    .dataframe tbody tr th:only-of-type {\n",
       "        vertical-align: middle;\n",
       "    }\n",
       "\n",
       "    .dataframe tbody tr th {\n",
       "        vertical-align: top;\n",
       "    }\n",
       "\n",
       "    .dataframe thead th {\n",
       "        text-align: right;\n",
       "    }\n",
       "</style>\n",
       "<table border=\"1\" class=\"dataframe\">\n",
       "  <thead>\n",
       "    <tr style=\"text-align: right;\">\n",
       "      <th></th>\n",
       "      <th>num_date_time</th>\n",
       "      <th>answer</th>\n",
       "    </tr>\n",
       "  </thead>\n",
       "  <tbody>\n",
       "    <tr>\n",
       "      <th>0</th>\n",
       "      <td>1_20220825 00</td>\n",
       "      <td>2030.9232</td>\n",
       "    </tr>\n",
       "    <tr>\n",
       "      <th>1</th>\n",
       "      <td>1_20220825 01</td>\n",
       "      <td>2170.0560</td>\n",
       "    </tr>\n",
       "    <tr>\n",
       "      <th>2</th>\n",
       "      <td>1_20220825 02</td>\n",
       "      <td>1900.8576</td>\n",
       "    </tr>\n",
       "    <tr>\n",
       "      <th>3</th>\n",
       "      <td>1_20220825 03</td>\n",
       "      <td>1928.8176</td>\n",
       "    </tr>\n",
       "    <tr>\n",
       "      <th>4</th>\n",
       "      <td>1_20220825 04</td>\n",
       "      <td>1943.6784</td>\n",
       "    </tr>\n",
       "  </tbody>\n",
       "</table>\n",
       "</div>"
      ],
      "text/plain": [
       "   num_date_time     answer\n",
       "0  1_20220825 00  2030.9232\n",
       "1  1_20220825 01  2170.0560\n",
       "2  1_20220825 02  1900.8576\n",
       "3  1_20220825 03  1928.8176\n",
       "4  1_20220825 04  1943.6784"
      ]
     },
     "execution_count": 60,
     "metadata": {},
     "output_type": "execute_result"
    }
   ],
   "source": [
    "submission.head()"
   ]
  },
  {
   "cell_type": "code",
   "execution_count": 61,
   "id": "17a41a48",
   "metadata": {},
   "outputs": [],
   "source": [
    "submission.to_csv('/Users/idoyun/Desktop/데이터 분석 경진대회/진행중/2023 전력사용량 예측 AI 경진대회/datafile/baseline_submission_rf_each.csv', index=False)"
   ]
  },
  {
   "cell_type": "code",
   "execution_count": 62,
   "id": "dabdece2",
   "metadata": {},
   "outputs": [
    {
     "data": {
      "text/html": [
       "<div>\n",
       "<style scoped>\n",
       "    .dataframe tbody tr th:only-of-type {\n",
       "        vertical-align: middle;\n",
       "    }\n",
       "\n",
       "    .dataframe tbody tr th {\n",
       "        vertical-align: top;\n",
       "    }\n",
       "\n",
       "    .dataframe thead th {\n",
       "        text-align: right;\n",
       "    }\n",
       "</style>\n",
       "<table border=\"1\" class=\"dataframe\">\n",
       "  <thead>\n",
       "    <tr style=\"text-align: right;\">\n",
       "      <th></th>\n",
       "      <th>num_date_time</th>\n",
       "      <th>answer</th>\n",
       "    </tr>\n",
       "  </thead>\n",
       "  <tbody>\n",
       "    <tr>\n",
       "      <th>0</th>\n",
       "      <td>1_20220825 00</td>\n",
       "      <td>2030.9232</td>\n",
       "    </tr>\n",
       "    <tr>\n",
       "      <th>1</th>\n",
       "      <td>1_20220825 01</td>\n",
       "      <td>2170.0560</td>\n",
       "    </tr>\n",
       "    <tr>\n",
       "      <th>2</th>\n",
       "      <td>1_20220825 02</td>\n",
       "      <td>1900.8576</td>\n",
       "    </tr>\n",
       "    <tr>\n",
       "      <th>3</th>\n",
       "      <td>1_20220825 03</td>\n",
       "      <td>1928.8176</td>\n",
       "    </tr>\n",
       "    <tr>\n",
       "      <th>4</th>\n",
       "      <td>1_20220825 04</td>\n",
       "      <td>1943.6784</td>\n",
       "    </tr>\n",
       "    <tr>\n",
       "      <th>...</th>\n",
       "      <td>...</td>\n",
       "      <td>...</td>\n",
       "    </tr>\n",
       "    <tr>\n",
       "      <th>16795</th>\n",
       "      <td>100_20220831 19</td>\n",
       "      <td>860.4504</td>\n",
       "    </tr>\n",
       "    <tr>\n",
       "      <th>16796</th>\n",
       "      <td>100_20220831 20</td>\n",
       "      <td>812.7720</td>\n",
       "    </tr>\n",
       "    <tr>\n",
       "      <th>16797</th>\n",
       "      <td>100_20220831 21</td>\n",
       "      <td>754.8504</td>\n",
       "    </tr>\n",
       "    <tr>\n",
       "      <th>16798</th>\n",
       "      <td>100_20220831 22</td>\n",
       "      <td>707.5584</td>\n",
       "    </tr>\n",
       "    <tr>\n",
       "      <th>16799</th>\n",
       "      <td>100_20220831 23</td>\n",
       "      <td>555.5136</td>\n",
       "    </tr>\n",
       "  </tbody>\n",
       "</table>\n",
       "<p>16800 rows × 2 columns</p>\n",
       "</div>"
      ],
      "text/plain": [
       "         num_date_time     answer\n",
       "0        1_20220825 00  2030.9232\n",
       "1        1_20220825 01  2170.0560\n",
       "2        1_20220825 02  1900.8576\n",
       "3        1_20220825 03  1928.8176\n",
       "4        1_20220825 04  1943.6784\n",
       "...                ...        ...\n",
       "16795  100_20220831 19   860.4504\n",
       "16796  100_20220831 20   812.7720\n",
       "16797  100_20220831 21   754.8504\n",
       "16798  100_20220831 22   707.5584\n",
       "16799  100_20220831 23   555.5136\n",
       "\n",
       "[16800 rows x 2 columns]"
      ]
     },
     "execution_count": 62,
     "metadata": {},
     "output_type": "execute_result"
    }
   ],
   "source": [
    "submission"
   ]
  },
  {
   "cell_type": "code",
   "execution_count": null,
   "id": "414c9849",
   "metadata": {},
   "outputs": [],
   "source": []
  }
 ],
 "metadata": {
  "kernelspec": {
   "display_name": "Python 3 (ipykernel)",
   "language": "python",
   "name": "python3"
  },
  "language_info": {
   "codemirror_mode": {
    "name": "ipython",
    "version": 3
   },
   "file_extension": ".py",
   "mimetype": "text/x-python",
   "name": "python",
   "nbconvert_exporter": "python",
   "pygments_lexer": "ipython3",
   "version": "3.9.7"
  }
 },
 "nbformat": 4,
 "nbformat_minor": 5
}
